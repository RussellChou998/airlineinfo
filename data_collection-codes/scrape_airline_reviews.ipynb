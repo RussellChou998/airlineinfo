{
 "cells": [
  {
   "cell_type": "code",
   "execution_count": 73,
   "metadata": {},
   "outputs": [],
   "source": [
    "from bs4 import BeautifulSoup\n",
    "import requests\n",
    "import os\n",
    "from urllib.parse import urljoin\n",
    "import re\n",
    "import pandas as pd"
   ]
  },
  {
   "cell_type": "code",
   "execution_count": 78,
   "metadata": {},
   "outputs": [],
   "source": [
    "core_url = \"https://www.airlinequality.com/airline-reviews\"\n",
    "\n",
    "N_REVIEWS = 50\n",
    "\n",
    "airlines = [\"ryanair\", \"lufthansa\", \"air-france\", \"aeroflot-russian-airlines\", \"turkish-airlines\", \"wizz-air\", \"easyjet\", \"tui-airways\", \"norwegian\",\"tap-portugal\",\"emirates\",\"jetblue-airways\",\"united-airlines\",\"air-canada\",\"singapore-airlines\"]\n",
    "\n"
   ]
  },
  {
   "cell_type": "code",
   "execution_count": 79,
   "metadata": {},
   "outputs": [],
   "source": [
    "#reference from Skytrax\n",
    "#https://www.airlinequality.com/\n",
    "\n",
    "airline_reviews = pd.DataFrame(columns=['airline', 'comment', 'title', 'rating', 'user_country', 'date', 'recommend'])"
   ]
  },
  {
   "cell_type": "code",
   "execution_count": 80,
   "metadata": {},
   "outputs": [
    {
     "name": "stdout",
     "output_type": "stream",
     "text": [
      "<Response [200]> https://www.airlinequality.com/airline-reviews/ryanair/?sortby=post_date%3ADesc&pagesize=50\n",
      "<Response [200]> https://www.airlinequality.com/airline-reviews/lufthansa/?sortby=post_date%3ADesc&pagesize=50\n",
      "<Response [200]> https://www.airlinequality.com/airline-reviews/air-france/?sortby=post_date%3ADesc&pagesize=50\n",
      "<Response [200]> https://www.airlinequality.com/airline-reviews/aeroflot-russian-airlines/?sortby=post_date%3ADesc&pagesize=50\n",
      "<Response [200]> https://www.airlinequality.com/airline-reviews/turkish-airlines/?sortby=post_date%3ADesc&pagesize=50\n",
      "<Response [200]> https://www.airlinequality.com/airline-reviews/wizz-air/?sortby=post_date%3ADesc&pagesize=50\n",
      "<Response [200]> https://www.airlinequality.com/airline-reviews/easyjet/?sortby=post_date%3ADesc&pagesize=50\n",
      "<Response [200]> https://www.airlinequality.com/airline-reviews/tui-airways/?sortby=post_date%3ADesc&pagesize=50\n",
      "<Response [200]> https://www.airlinequality.com/airline-reviews/norwegian/?sortby=post_date%3ADesc&pagesize=50\n",
      "<Response [200]> https://www.airlinequality.com/airline-reviews/tap-portugal/?sortby=post_date%3ADesc&pagesize=50\n",
      "<Response [200]> https://www.airlinequality.com/airline-reviews/emirates/?sortby=post_date%3ADesc&pagesize=50\n",
      "<Response [200]> https://www.airlinequality.com/airline-reviews/jetblue-airways/?sortby=post_date%3ADesc&pagesize=50\n",
      "<Response [200]> https://www.airlinequality.com/airline-reviews/united-airlines/?sortby=post_date%3ADesc&pagesize=50\n",
      "<Response [200]> https://www.airlinequality.com/airline-reviews/air-canada/?sortby=post_date%3ADesc&pagesize=50\n",
      "<Response [200]> https://www.airlinequality.com/airline-reviews/singapore-airlines/?sortby=post_date%3ADesc&pagesize=50\n"
     ]
    }
   ],
   "source": [
    "for airline in airlines:\n",
    "    # url of airline\n",
    "    skytrax_url = os.path.join(core_url, airline, \"?sortby=post_date%3ADesc&pagesize=\" + str(N_REVIEWS))\n",
    "    # get HTML\n",
    "    response = requests.get(skytrax_url)\n",
    "    print(response,skytrax_url)\n",
    "    soup = BeautifulSoup(response.text, 'html.parser')\n",
    "    # get HTML of section which includes reviews\n",
    "    reviews = soup.find('section', class_='layout-section layout-2 closer-top')\n",
    "    # get fields\n",
    "    reviews_comment = [tag.get_text() for tag in soup.select('div[class=\"text_content\"]')]\n",
    "    reviews_title = [tag.get_text() for tag in soup.select('h2[class=\"text_header\"]')][:N_REVIEWS]\n",
    "    reviews_rating = [int(tag.get_text()) for tag in reviews.select('span[itemprop=\"ratingValue\"]')]\n",
    "    reviews_user_country = [re.findall(r'\\(([A-Za-z ]+)\\)', tag.get_text())[0] for tag in reviews.select('h3[class=\"text_sub_header userStatusWrapper\"]')]\n",
    "    reviews_date = [tag.get_text() for tag in reviews.select('time[itemprop=\"datePublished\"]')]\n",
    "    reviews_recommend = [tag.get_text() for tag in reviews.select('td[class^=\"review-value rating-\"]')]\n",
    "    \n",
    "    df_temp = pd.DataFrame({'comment': reviews_comment, 'title': reviews_title, 'rating': reviews_rating, 'user_country': reviews_user_country, 'date': reviews_date, 'recommend': reviews_recommend})\n",
    "    df_temp['airline'] = airline\n",
    "    airline_reviews = pd.concat([airline_reviews, df_temp])"
   ]
  },
  {
   "cell_type": "code",
   "execution_count": 81,
   "metadata": {},
   "outputs": [],
   "source": [
    "airline_reviews.to_csv('cleaned_data/airline-reviews.csv')"
   ]
  },
  {
   "cell_type": "code",
   "execution_count": 82,
   "metadata": {
    "scrolled": true
   },
   "outputs": [],
   "source": [
    "airline_reviews.columns = ['airline_id', 'comment', 'title', 'rating', 'user_country_id', 'date', 'recommend']\n",
    "airline_reviews.reset_index(drop=True, inplace=True)"
   ]
  },
  {
   "cell_type": "code",
   "execution_count": 83,
   "metadata": {},
   "outputs": [
    {
     "data": {
      "text/html": [
       "<div>\n",
       "<style scoped>\n",
       "    .dataframe tbody tr th:only-of-type {\n",
       "        vertical-align: middle;\n",
       "    }\n",
       "\n",
       "    .dataframe tbody tr th {\n",
       "        vertical-align: top;\n",
       "    }\n",
       "\n",
       "    .dataframe thead th {\n",
       "        text-align: right;\n",
       "    }\n",
       "</style>\n",
       "<table border=\"1\" class=\"dataframe\">\n",
       "  <thead>\n",
       "    <tr style=\"text-align: right;\">\n",
       "      <th></th>\n",
       "      <th>airline_id</th>\n",
       "      <th>comment</th>\n",
       "      <th>title</th>\n",
       "      <th>rating</th>\n",
       "      <th>user_country_id</th>\n",
       "      <th>date</th>\n",
       "      <th>recommend</th>\n",
       "    </tr>\n",
       "  </thead>\n",
       "  <tbody>\n",
       "    <tr>\n",
       "      <th>0</th>\n",
       "      <td>ryanair</td>\n",
       "      <td>Not Verified |  Do not fly Ryanair if you have...</td>\n",
       "      <td>\"they made our experience so stressful\"</td>\n",
       "      <td>1</td>\n",
       "      <td>United Kingdom</td>\n",
       "      <td>6th April 2022</td>\n",
       "      <td>no</td>\n",
       "    </tr>\n",
       "    <tr>\n",
       "      <th>1</th>\n",
       "      <td>ryanair</td>\n",
       "      <td>✅ Trip Verified |  I tried to place booking at...</td>\n",
       "      <td>\"almost two weeks and it still not refunded\"</td>\n",
       "      <td>1</td>\n",
       "      <td>Ukraine</td>\n",
       "      <td>4th April 2022</td>\n",
       "      <td>no</td>\n",
       "    </tr>\n",
       "    <tr>\n",
       "      <th>2</th>\n",
       "      <td>ryanair</td>\n",
       "      <td>✅ Trip Verified |  Terrible customer service a...</td>\n",
       "      <td>\"Terrible customer service\"</td>\n",
       "      <td>1</td>\n",
       "      <td>United States</td>\n",
       "      <td>3rd April 2022</td>\n",
       "      <td>no</td>\n",
       "    </tr>\n",
       "    <tr>\n",
       "      <th>3</th>\n",
       "      <td>ryanair</td>\n",
       "      <td>✅ Trip Verified |  I bought a 10 kg roll on ha...</td>\n",
       "      <td>\"I chose not to fly\"</td>\n",
       "      <td>1</td>\n",
       "      <td>Spain</td>\n",
       "      <td>29th March 2022</td>\n",
       "      <td>no</td>\n",
       "    </tr>\n",
       "    <tr>\n",
       "      <th>4</th>\n",
       "      <td>ryanair</td>\n",
       "      <td>Not Verified |  Plane is very dirty and some o...</td>\n",
       "      <td>\"Plane is very dirty\"</td>\n",
       "      <td>3</td>\n",
       "      <td>Finland</td>\n",
       "      <td>25th March 2022</td>\n",
       "      <td>no</td>\n",
       "    </tr>\n",
       "  </tbody>\n",
       "</table>\n",
       "</div>"
      ],
      "text/plain": [
       "  airline_id                                            comment  \\\n",
       "0    ryanair  Not Verified |  Do not fly Ryanair if you have...   \n",
       "1    ryanair  ✅ Trip Verified |  I tried to place booking at...   \n",
       "2    ryanair  ✅ Trip Verified |  Terrible customer service a...   \n",
       "3    ryanair  ✅ Trip Verified |  I bought a 10 kg roll on ha...   \n",
       "4    ryanair  Not Verified |  Plane is very dirty and some o...   \n",
       "\n",
       "                                          title rating user_country_id  \\\n",
       "0       \"they made our experience so stressful\"      1  United Kingdom   \n",
       "1  \"almost two weeks and it still not refunded\"      1         Ukraine   \n",
       "2                   \"Terrible customer service\"      1   United States   \n",
       "3                          \"I chose not to fly\"      1           Spain   \n",
       "4                         \"Plane is very dirty\"      3         Finland   \n",
       "\n",
       "              date recommend  \n",
       "0   6th April 2022        no  \n",
       "1   4th April 2022        no  \n",
       "2   3rd April 2022        no  \n",
       "3  29th March 2022        no  \n",
       "4  25th March 2022        no  "
      ]
     },
     "execution_count": 83,
     "metadata": {},
     "output_type": "execute_result"
    }
   ],
   "source": [
    "airline_reviews.head()"
   ]
  },
  {
   "cell_type": "code",
   "execution_count": 84,
   "metadata": {},
   "outputs": [],
   "source": [
    "airline_reviews.to_parquet('cleaned_data/New_airline-reviews.parquet')\n",
    "airline_reviews.to_csv('cleaned_data/New_airline-reviews.csv')"
   ]
  },
  {
   "cell_type": "code",
   "execution_count": null,
   "metadata": {},
   "outputs": [],
   "source": []
  },
  {
   "cell_type": "code",
   "execution_count": null,
   "metadata": {},
   "outputs": [],
   "source": []
  }
 ],
 "metadata": {
  "kernelspec": {
   "display_name": "Python [conda env:Python3] *",
   "language": "python",
   "name": "conda-env-Python3-py"
  },
  "language_info": {
   "codemirror_mode": {
    "name": "ipython",
    "version": 3
   },
   "file_extension": ".py",
   "mimetype": "text/x-python",
   "name": "python",
   "nbconvert_exporter": "python",
   "pygments_lexer": "ipython3",
   "version": "3.8.2"
  }
 },
 "nbformat": 4,
 "nbformat_minor": 2
}
